{
 "cells": [
  {
   "cell_type": "markdown",
   "metadata": {},
   "source": [
    "# Alok Raj"
   ]
  },
  {
   "cell_type": "code",
   "execution_count": 3,
   "metadata": {},
   "outputs": [],
   "source": [
    "import numpy as np\n",
    "import pandas as pd\n",
    "from sklearn.model_selection import train_test_split\n",
    "from sklearn.feature_extraction.text import TfidfVectorizer\n",
    "from nltk.corpus import stopwords \n",
    "from nltk.tokenize import WordPunctTokenizer\n",
    "import string\n",
    "import re"
   ]
  },
  {
   "cell_type": "code",
   "execution_count": 2,
   "metadata": {},
   "outputs": [],
   "source": [
    "df = pd.read_csv('RestoInfo.csv')"
   ]
  },
  {
   "cell_type": "code",
   "execution_count": 4,
   "metadata": {},
   "outputs": [
    {
     "name": "stdout",
     "output_type": "stream",
     "text": [
      "<class 'pandas.core.frame.DataFrame'>\n",
      "RangeIndex: 2069 entries, 0 to 2068\n",
      "Data columns (total 15 columns):\n",
      "Unnamed: 0                     2069 non-null int64\n",
      "name                           2069 non-null object\n",
      "online_order                   2069 non-null object\n",
      "book_table                     2069 non-null object\n",
      "rate                           1770 non-null object\n",
      "votes                          2069 non-null int64\n",
      "location                       2069 non-null object\n",
      "rest_type                      2052 non-null object\n",
      "dish_liked                     962 non-null object\n",
      "cuisines                       2069 non-null object\n",
      "approx_cost(for two people)    2053 non-null object\n",
      "reviews_list                   2069 non-null object\n",
      "menu_item                      2069 non-null object\n",
      "listed_in(type)                2069 non-null object\n",
      "listed_in(city)                2069 non-null object\n",
      "dtypes: int64(2), object(13)\n",
      "memory usage: 242.6+ KB\n"
     ]
    }
   ],
   "source": [
    "df.info()"
   ]
  },
  {
   "cell_type": "code",
   "execution_count": 7,
   "metadata": {},
   "outputs": [],
   "source": [
    "#Object to numeric\n",
    "df['approx_cost(for two people)'] = pd.to_numeric(df['approx_cost(for two people)'], errors='coerce')\n",
    "df['approx_cost(for two people)'].fillna((df['approx_cost(for two people)'].mean()), inplace=True)"
   ]
  },
  {
   "cell_type": "code",
   "execution_count": 8,
   "metadata": {},
   "outputs": [],
   "source": [
    "#Combining reviews, menu, dish liked to customise search\n",
    "df['content']=df['reviews_list'].fillna('')+' '+df['menu_item'].fillna('')+' '+df['dish_liked'].fillna('')"
   ]
  },
  {
   "cell_type": "code",
   "execution_count": 36,
   "metadata": {},
   "outputs": [],
   "source": [
    "new=df['rate'].str.split('/',expand=True)\n",
    "df['rate_mag']=new[0]\n",
    "'''\n",
    "Many restaurants have empty rating. An idea could be to fill with average of all. It could also be that very few people have tried that restaurant or reviewed it. \n",
    "So, it is not that famous unless it is NEW. I am not replacing those for this study\n",
    "'''"
   ]
  },
  {
   "cell_type": "code",
   "execution_count": 9,
   "metadata": {},
   "outputs": [],
   "source": [
    "from nltk.stem.snowball import SnowballStemmer\n",
    "stemmer = SnowballStemmer(\"english\")\n",
    "'''\n",
    "Cleaning the content to remove punctuations and correct where ever required.\n",
    "I am also using stemmer to not differentiate between close enough words\n",
    "'''\n",
    "\n",
    "def clean_text(text):\n",
    "    text = text.translate(string.punctuation)\n",
    "    ## Convert words to lower case and split them\n",
    "    text = text.lower().split()\n",
    "    ## Remove stop words\n",
    "    stops = set(stopwords.words(\"english\"))\n",
    "    text = [w for w in text if not w in stops and len(w) >= 3]\n",
    "    text = \" \".join(text)\n",
    "    # Clean the text\n",
    "    text = re.sub(r\"[^A-Za-z0-9^,!.\\/'+-=]\", \" \", text)\n",
    "    text = re.sub(r\"[0-9]\", \"\", text)\n",
    "    text = re.sub(r\"\\'s\", \"\", text)\n",
    "    text = re.sub(r\"\\'ve\", \" have \", text)\n",
    "    text = re.sub(r\"n't\", \" not \", text)\n",
    "    text = re.sub(r\"i'm\", \"i am \", text)\n",
    "    text = re.sub(r\"\\'re\", \" are \", text)\n",
    "    text = re.sub(r\"\\'d\", \" would \", text)\n",
    "    text = re.sub(r\"\\'ll\", \" will \", text)\n",
    "    text = re.sub(r\",\", \"\", text)\n",
    "    text = re.sub(r\"\\.\", \"\", text)\n",
    "    text = re.sub(r\"!\", \"\", text)\n",
    "    text = re.sub(r\"\\/\", \"\", text)\n",
    "    text = re.sub(r\"'\", \"\", text)\n",
    "    text = re.sub(r\":\", \"\", text)\n",
    "    text = re.sub(r\"rated\", \"\", text)\n",
    "    text = re.sub(r\" n \", \"\", text)\n",
    "    text = re.sub(r\"  \", \" \", text)\n",
    "    #text = re.sub(r\"+\", \" \", text)\n",
    "    text = re.sub(r\"--\", \" \", text)\n",
    "    text = re.sub(r\"-\", \" \", text)\n",
    "    text = re.sub(r\";\", \" \", text)\n",
    "    text = re.sub(r\"=\", \" \", text)\n",
    "    text=[stemmer.stem(w) for w in text.split(' ')] \n",
    "    while(\"\" in text): \n",
    "        text.remove(\"\") \n",
    "    string_text=''\n",
    "    for i in range(len(text)):\n",
    "        string_text =string_text+text[i]+' '\n",
    "    return string_text"
   ]
  },
  {
   "cell_type": "code",
   "execution_count": 10,
   "metadata": {},
   "outputs": [
    {
     "data": {
      "text/plain": [
       "0                                                        \n",
       "1       work cheap near offic colleg food avoid best t...\n",
       "2       ice cream realli tasti especi belgian chocol s...\n",
       "3       beauti ambianc manag get tabl right next fount...\n",
       "4       good experi restaur ragi mudda good well prepa...\n",
       "                              ...                        \n",
       "2064    pathet servic we visit st jan complet disappoi...\n",
       "2065    place locat heart indiranagar feet road make s...\n",
       "2066    servic tast ambienc nnit team outing + peopl s...\n",
       "2067                                                     \n",
       "2068    small place minim tast pocket friend pretti qu...\n",
       "Name: content_1, Length: 2069, dtype: object"
      ]
     },
     "execution_count": 10,
     "metadata": {},
     "output_type": "execute_result"
    }
   ],
   "source": [
    "df['content_1']=df['content'].apply(clean_text)\n",
    "df['content_1']"
   ]
  },
  {
   "cell_type": "code",
   "execution_count": 11,
   "metadata": {},
   "outputs": [],
   "source": [
    "content_vectorizer = TfidfVectorizer(tokenizer = WordPunctTokenizer().tokenize, max_features=2000)\n",
    "content_vectors = content_vectorizer.fit_transform(df['content_1'])\n",
    "content_P = pd.DataFrame(content_vectors.toarray(), index=df.index, columns=content_vectorizer.get_feature_names())"
   ]
  },
  {
   "cell_type": "code",
   "execution_count": 12,
   "metadata": {},
   "outputs": [],
   "source": [
    "df['location_1']=df['location'].apply(clean_text)\n",
    "location_vectorizer = TfidfVectorizer(tokenizer = WordPunctTokenizer().tokenize, max_features=500)\n",
    "location_vectors = location_vectorizer.fit_transform(df['location_1'])\n",
    "location_P = pd.DataFrame(location_vectors.toarray(), index=df.index, columns=location_vectorizer.get_feature_names())"
   ]
  },
  {
   "cell_type": "code",
   "execution_count": 13,
   "metadata": {},
   "outputs": [],
   "source": [
    "df['cuisines_1']=df['cuisines']\n",
    "cuisines_vectorizer = TfidfVectorizer(tokenizer = WordPunctTokenizer().tokenize, max_features=100)\n",
    "cuisines_vectors = cuisines_vectorizer.fit_transform(df['cuisines_1'])\n",
    "cuisines_P = pd.DataFrame(cuisines_vectors.toarray(), index=df.index, columns=cuisines_vectorizer.get_feature_names())"
   ]
  },
  {
   "cell_type": "code",
   "execution_count": 52,
   "metadata": {},
   "outputs": [],
   "source": [
    "class restaurant_recommmender:\n",
    "    def __init__(self,content,location='Marathahalli whitefield',cuisines='South Indian',budget=500,\n",
    "                 content_P=content_P,location_P=location_P,cuisines_P=cuisines_P,approx_cost=df['approx_cost(for two people)'],\n",
    "                content_vectorizer=content_vectorizer,location_vectorizer=location_vectorizer,cuisines_vectorizer=cuisines_vectorizer,\n",
    "                df=df):\n",
    "        self.content=content\n",
    "        self.location=location\n",
    "        self.cuisines=cuisines\n",
    "        self.budget=budget\n",
    "        self.content_P=content_P\n",
    "        self.location_P=location_P\n",
    "        self.cuisines_P=cuisines_P\n",
    "        self.approx_cost=approx_cost\n",
    "        self.content_vectorizer=content_vectorizer\n",
    "        self.location_vectorizer=location_vectorizer\n",
    "        self.cuisines_vectorizer=cuisines_vectorizer\n",
    "        self.df=df\n",
    "        a=self.comparison(self.content,self.content_P,content_vectorizer)\n",
    "        b=self.comparison(self.location,self.location_P,location_vectorizer)\n",
    "        c=self.comparison(self.cuisines,self.cuisines_P,cuisines_vectorizer)\n",
    "        d=self.budget_comparison(self.budget,self.approx_cost)\n",
    "        self.recommendation(a,b,c,d,self.df)\n",
    "    def comparison(self,content, master_content,vectorizer): #Master content-> content_P\n",
    "        test_df= pd.DataFrame([content], columns=['text'])\n",
    "        test_df['text'] = test_df['text'].apply(clean_text) #Need to inherit clean_text function\n",
    "        test_vectors = vectorizer.transform(test_df['text'])\n",
    "        test_content_df = pd.DataFrame(test_vectors.toarray(), index=test_df.index, columns=vectorizer.get_feature_names())\n",
    "        return np.dot(test_content_df.loc[0],master_content.T)\n",
    "    def budget_comparison (self,budget, approx_cost):\n",
    "        d=1-abs(approx_cost-budget)/(approx_cost+budget)\n",
    "        return d\n",
    "    def recommendation(self,a,b,c,d,df):\n",
    "        a=a+0.01\n",
    "        b=b+0.01\n",
    "        c=c+0.01\n",
    "        d=d+0.01\n",
    "        '''I have added a very small number to remove zero multiplication. It preserves the influence of every inputs'''\n",
    "        sum_total=a*b*c*d\n",
    "        #top_recommendations=pd.Series.sort_values(sum_total, ascending=False)[:3]\n",
    "        '''Select top 10 restaurants that match the recommendation and then select top 3 based on raatings among them'''\n",
    "        top_recommendations=pd.Series.sort_values(sum_total, ascending=False)[:10]\n",
    "        d = []\n",
    "        for i in list(top_recommendations.index):\n",
    "            d.append({'name': df.iloc[i,:]['name'],\n",
    "            'rating': df.iloc[i,:]['rate_mag']})\n",
    "        df_2=pd.DataFrame(d)\n",
    "        print ('Ten restaurants which matches your requirement')\n",
    "        print (df_2)\n",
    "        print (\"\")\n",
    "        df_2_name=df_2.sort_values(by='rating',ascending=False)['name']\n",
    "        print (\"Top 3 recommended restaurants for you are:\")\n",
    "        print (\"\")\n",
    "        for i in range(3):\n",
    "            print ('Recommendation {}: '.format(i+1),df_2_name.iloc[i])\n",
    "        #for i,num in enumerate(list(top_recommendations.index)):\n",
    "        #    print ('Recommendation {}:'.format(i+1),df.iloc[num,:])#['name'])"
   ]
  },
  {
   "cell_type": "code",
   "execution_count": 53,
   "metadata": {},
   "outputs": [
    {
     "name": "stdout",
     "output_type": "stream",
     "text": [
      "Ten restaurants which matches your requirement\n",
      "                            name rating\n",
      "0        Amaravathi Biryani Zone    NaN\n",
      "1               Taste of Coastal    NaN\n",
      "2         Flavours Radha Hometel   3.5 \n",
      "3         Flavours Radha Hometel   3.5 \n",
      "4  Green Hyderabad Biryani House   3.8 \n",
      "5                     U.P. Dhaba    2.8\n",
      "6                   Nawabi Handi    3.4\n",
      "7       Basmati's Briyani Nation    NEW\n",
      "8           Windy- Taste Of Home   3.6 \n",
      "9            Curries and Pickles    NaN\n",
      "\n",
      "Top 3 recommended restaurants for you are:\n",
      "\n",
      "Recommendation 1:  Basmati's Briyani Nation\n",
      "Recommendation 2:  Green Hyderabad Biryani House\n",
      "Recommendation 3:  Windy- Taste Of Home\n"
     ]
    },
    {
     "data": {
      "text/plain": [
       "<__main__.restaurant_recommmender at 0x25b939f4308>"
      ]
     },
     "execution_count": 53,
     "metadata": {},
     "output_type": "execute_result"
    }
   ],
   "source": [
    "sentence='biryani chicken'\n",
    "location='Whitefield'\n",
    "restaurant_recommmender(sentence,location,budget=1500)"
   ]
  },
  {
   "cell_type": "code",
   "execution_count": 54,
   "metadata": {},
   "outputs": [
    {
     "name": "stdout",
     "output_type": "stream",
     "text": [
      "What are you looking for today? How about Biryani?\n",
      "Good ambience, paneer tikka, veg\n",
      "Location?\n",
      "marathahalli, bellandur, whitefield\n",
      "cruisines?\n",
      "north indian\n",
      "approx cost for two?\n",
      "1000\n",
      "Ten restaurants which matches your requirement\n",
      "                  name rating\n",
      "0           Food Singh    NaN\n",
      "1      Meghana Biryani    2.3\n",
      "2              Santo's    NaN\n",
      "3          Dil Punjabi    2.6\n",
      "4        Yummy Punjabi    2.9\n",
      "5  The Spice Pavillion   3.7 \n",
      "6        Curry Chutney   3.0 \n",
      "7           U.P. Dhaba    2.8\n",
      "8       Krishna Bhojan    NaN\n",
      "9            The Dhaba    2.7\n",
      "\n",
      "Top 3 recommended restaurants for you are:\n",
      "\n",
      "Recommendation 1:  The Spice Pavillion\n",
      "Recommendation 2:  Curry Chutney\n",
      "Recommendation 3:  Yummy Punjabi\n"
     ]
    },
    {
     "data": {
      "text/plain": [
       "<__main__.restaurant_recommmender at 0x25b939f4888>"
      ]
     },
     "execution_count": 54,
     "metadata": {},
     "output_type": "execute_result"
    }
   ],
   "source": [
    "print ('What are you looking for today? How about Biryani?')\n",
    "content = input()\n",
    "print ('Location?')\n",
    "location = input()\n",
    "print ('cruisines?')\n",
    "cruisines = input()\n",
    "print ('approx cost for two?')\n",
    "budget= input()\n",
    "restaurant_recommmender(content,location,cruisines,int(budget))"
   ]
  },
  {
   "cell_type": "code",
   "execution_count": null,
   "metadata": {},
   "outputs": [],
   "source": []
  },
  {
   "cell_type": "code",
   "execution_count": null,
   "metadata": {},
   "outputs": [],
   "source": []
  },
  {
   "cell_type": "code",
   "execution_count": null,
   "metadata": {},
   "outputs": [],
   "source": []
  }
 ],
 "metadata": {
  "kernelspec": {
   "display_name": "Python 3",
   "language": "python",
   "name": "python3"
  },
  "language_info": {
   "codemirror_mode": {
    "name": "ipython",
    "version": 3
   },
   "file_extension": ".py",
   "mimetype": "text/x-python",
   "name": "python",
   "nbconvert_exporter": "python",
   "pygments_lexer": "ipython3",
   "version": "3.7.4"
  }
 },
 "nbformat": 4,
 "nbformat_minor": 2
}
